{
 "cells": [
  {
   "cell_type": "code",
   "execution_count": 1,
   "metadata": {},
   "outputs": [],
   "source": [
    "#protein post translational modification data processing\n",
    "import pandas as pd\n",
    "import numpy as np"
   ]
  },
  {
   "cell_type": "code",
   "execution_count": 2,
   "metadata": {},
   "outputs": [],
   "source": [
    "import os"
   ]
  },
  {
   "cell_type": "code",
   "execution_count": 3,
   "metadata": {},
   "outputs": [],
   "source": [
    "#writing fasta file\n",
    "methyl_full = pd.read_csv(\"/home/jjia1/postacetylation/Methylation.txt\", sep=\"\\t\", header=None)\n",
    "methyl_human =  methyl_full[5]==\"Homo sapiens\""
   ]
  },
  {
   "cell_type": "code",
   "execution_count": 4,
   "metadata": {},
   "outputs": [],
   "source": [
    "acetyl_full = pd.read_csv(\"/home/jjia1/postacetylation/Acetylation.txt\", sep=\"\\t\", header=None)\n",
    "acetyl_human =  acetyl_full[5]==\"Homo sapiens\""
   ]
  },
  {
   "cell_type": "code",
   "execution_count": 5,
   "metadata": {},
   "outputs": [],
   "source": [
    "methyl = methyl_full[methyl_human]\n",
    "acetyl = acetyl_full[acetyl_human]"
   ]
  },
  {
   "cell_type": "code",
   "execution_count": 6,
   "metadata": {},
   "outputs": [
    {
     "data": {
      "text/plain": [
       "5915"
      ]
     },
     "execution_count": 6,
     "metadata": {},
     "output_type": "execute_result"
    }
   ],
   "source": [
    "len(methyl)"
   ]
  },
  {
   "cell_type": "code",
   "execution_count": 7,
   "metadata": {},
   "outputs": [
    {
     "data": {
      "text/plain": [
       "58672"
      ]
     },
     "execution_count": 7,
     "metadata": {},
     "output_type": "execute_result"
    }
   ],
   "source": [
    "len(acetyl)"
   ]
  },
  {
   "cell_type": "code",
   "execution_count": 8,
   "metadata": {},
   "outputs": [],
   "source": [
    "methyl = methyl.reset_index()\n",
    "methyl[2] = pd.to_numeric(methyl[2])"
   ]
  },
  {
   "cell_type": "code",
   "execution_count": 9,
   "metadata": {},
   "outputs": [],
   "source": [
    "acetyl = acetyl.reset_index()\n",
    "acetyl[2] = pd.to_numeric(acetyl[2])"
   ]
  },
  {
   "cell_type": "code",
   "execution_count": null,
   "metadata": {},
   "outputs": [],
   "source": [
    "ofile = open(\"/home/jjia1/postacetylation/methylation_seq.fasta\", \"w\")\n",
    "for line in methyl[6]:\n",
    "    ofile.write('>'+line+'\\n')\n",
    "ofile.close() "
   ]
  },
  {
   "cell_type": "code",
   "execution_count": null,
   "metadata": {},
   "outputs": [],
   "source": [
    "ofile = open(\"/home/jjia1/postacetylation/acetylation_seq.fasta\", \"w\")\n",
    "for line in acetyl[6]:\n",
    "    ofile.write('>'+line+'\\n')\n",
    "ofile.close() "
   ]
  },
  {
   "cell_type": "code",
   "execution_count": null,
   "metadata": {},
   "outputs": [],
   "source": []
  }
 ],
 "metadata": {
  "kernelspec": {
   "display_name": "Python 3.8.13 ('post_acetylation': conda)",
   "language": "python",
   "name": "python3"
  },
  "language_info": {
   "codemirror_mode": {
    "name": "ipython",
    "version": 3
   },
   "file_extension": ".py",
   "mimetype": "text/x-python",
   "name": "python",
   "nbconvert_exporter": "python",
   "pygments_lexer": "ipython3",
   "version": "3.8.13"
  },
  "orig_nbformat": 4,
  "vscode": {
   "interpreter": {
    "hash": "31b24d60b27c150d491069827f03c2f582331960570dd93769f566ba343e1d6b"
   }
  }
 },
 "nbformat": 4,
 "nbformat_minor": 2
}
