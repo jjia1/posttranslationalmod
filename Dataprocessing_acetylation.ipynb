{
 "cells": [
  {
   "cell_type": "code",
   "execution_count": 1,
   "metadata": {},
   "outputs": [],
   "source": [
    "#protein post translational modification data processing\n",
    "import pandas as pd\n",
    "import numpy as np"
   ]
  },
  {
   "cell_type": "code",
   "execution_count": 2,
   "metadata": {},
   "outputs": [],
   "source": [
    "import os"
   ]
  },
  {
   "cell_type": "code",
   "execution_count": 3,
   "metadata": {},
   "outputs": [],
   "source": [
    "with open('/home/jjia1/postacetylation/acetylation_seq_cleaned.fasta') as f:\n",
    "    lines = f.read().splitlines()"
   ]
  },
  {
   "cell_type": "code",
   "execution_count": 4,
   "metadata": {},
   "outputs": [],
   "source": [
    "y = []\n",
    "seq = []\n",
    "for line in lines:\n",
    "    if line[0] == '>':\n",
    "        y.append(1)\n",
    "    else:\n",
    "        seq.append(line)"
   ]
  },
  {
   "cell_type": "code",
   "execution_count": 5,
   "metadata": {},
   "outputs": [],
   "source": [
    "k = [i for i, e in enumerate(seq[0]) if e == 'K']\n",
    "r = [i for i, e in enumerate(seq[0]) if e == 'R']"
   ]
  },
  {
   "cell_type": "code",
   "execution_count": 6,
   "metadata": {},
   "outputs": [
    {
     "name": "stdout",
     "output_type": "stream",
     "text": [
      "[33, 38, 46, 51, 61, 64, 76, 83, 103, 110, 114, 168, 171, 201, 229, 232, 257, 296, 302, 313, 320, 334, 341, 351, 352, 355, 358]\n"
     ]
    }
   ],
   "source": [
    "kr = k+r\n",
    "kr.sort()\n",
    "print(kr)"
   ]
  },
  {
   "cell_type": "code",
   "execution_count": 7,
   "metadata": {},
   "outputs": [
    {
     "data": {
      "text/plain": [
       "360"
      ]
     },
     "execution_count": 7,
     "metadata": {},
     "output_type": "execute_result"
    }
   ],
   "source": [
    "len(seq[0])"
   ]
  },
  {
   "cell_type": "code",
   "execution_count": 8,
   "metadata": {},
   "outputs": [],
   "source": [
    "positive_sequence = []\n",
    "negative_sequence = []\n",
    "neg_index_nooverlap = []\n",
    "#serine (S) and alanine (A) for acetylation\n",
    "#lysine (K), methionine (M), glycine (G), Threonine (T), cysteine (C)\n",
    "#valine (V)\n",
    "for c in seq:\n",
    "    pos_index = [i for i, e in enumerate(c) if e == 'S' or e == 'A' or e == 'K']\n",
    "    neg_index = [i for i, e in enumerate(c) if e != 'S' and e != 'A' or e != 'K']\n",
    "\n",
    "    for pos in pos_index:\n",
    "        if pos >= 15 and (pos+16) <= len(c):\n",
    "            positive = c[(pos-15):(pos+16)]\n",
    "            positive_sequence.append(positive)\n",
    "\n",
    "    for neg in neg_index:\n",
    "        if neg >= 15 and (neg+16) <= len(c):\n",
    "            negative = c[(neg-15):(neg+16)]\n",
    "            negative_sequence.append(negative)"
   ]
  },
  {
   "cell_type": "code",
   "execution_count": 9,
   "metadata": {},
   "outputs": [
    {
     "name": "stdout",
     "output_type": "stream",
     "text": [
      "1115282\n",
      "5128153\n"
     ]
    }
   ],
   "source": [
    "print(len(positive_sequence))\n",
    "print(len(negative_sequence))"
   ]
  },
  {
   "cell_type": "code",
   "execution_count": 10,
   "metadata": {},
   "outputs": [],
   "source": [
    "ofile = open('/home/jjia1/postacetylation/acetylation_pos.fasta', 'w')\n",
    "i = 0\n",
    "for line in positive_sequence:\n",
    "    ofile.write('>Sequence_'+str(i)+'\\n'+line+'\\n')\n",
    "    i = i + 1\n",
    "ofile.close()"
   ]
  },
  {
   "cell_type": "code",
   "execution_count": 11,
   "metadata": {},
   "outputs": [],
   "source": [
    "ofile = open('/home/jjia1/postacetylation/acetylation_neg.fasta', 'w')\n",
    "i = 0\n",
    "for line in negative_sequence:\n",
    "    ofile.write('>Sequence_'+str(i)+'\\n'+line+'\\n')\n",
    "    i = i + 1\n",
    "ofile.close()"
   ]
  }
 ],
 "metadata": {
  "kernelspec": {
   "display_name": "Python 3.8.13 ('post_acetylation': conda)",
   "language": "python",
   "name": "python3"
  },
  "language_info": {
   "codemirror_mode": {
    "name": "ipython",
    "version": 3
   },
   "file_extension": ".py",
   "mimetype": "text/x-python",
   "name": "python",
   "nbconvert_exporter": "python",
   "pygments_lexer": "ipython3",
   "version": "3.8.13"
  },
  "orig_nbformat": 4,
  "vscode": {
   "interpreter": {
    "hash": "31b24d60b27c150d491069827f03c2f582331960570dd93769f566ba343e1d6b"
   }
  }
 },
 "nbformat": 4,
 "nbformat_minor": 2
}
