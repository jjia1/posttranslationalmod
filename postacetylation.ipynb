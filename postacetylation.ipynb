{
 "cells": [
  {
   "cell_type": "code",
   "execution_count": 1,
   "metadata": {},
   "outputs": [],
   "source": [
    "#protein post translational modification data processing\n",
    "import pandas as pd\n",
    "import numpy as np"
   ]
  },
  {
   "cell_type": "code",
   "execution_count": 2,
   "metadata": {},
   "outputs": [],
   "source": [
    "import os"
   ]
  },
  {
   "cell_type": "code",
   "execution_count": 3,
   "metadata": {},
   "outputs": [],
   "source": [
    "with open('/home/jjia1/postacetylation/acetylation_seq_cleaned.fasta') as f:\n",
    "    lines = f.read().splitlines()"
   ]
  },
  {
   "cell_type": "code",
   "execution_count": 4,
   "metadata": {},
   "outputs": [],
   "source": [
    "y = []\n",
    "seq = []\n",
    "for line in lines:\n",
    "    if line[0] == '>':\n",
    "        y.append(1)\n",
    "    else:\n",
    "        seq.append(line)"
   ]
  },
  {
   "cell_type": "code",
   "execution_count": 5,
   "metadata": {},
   "outputs": [],
   "source": [
    "k = [i for i, e in enumerate(seq[0]) if e == 'K']\n",
    "r = [i for i, e in enumerate(seq[0]) if e == 'R']"
   ]
  },
  {
   "cell_type": "code",
   "execution_count": 6,
   "metadata": {},
   "outputs": [
    {
     "name": "stdout",
     "output_type": "stream",
     "text": [
      "[33, 38, 46, 51, 61, 64, 76, 83, 103, 110, 114, 168, 171, 201, 229, 232, 257, 296, 302, 313, 320, 334, 341, 351, 352, 355, 358]\n"
     ]
    }
   ],
   "source": [
    "kr = k+r\n",
    "kr.sort()\n",
    "print(kr)"
   ]
  },
  {
   "cell_type": "code",
   "execution_count": 7,
   "metadata": {},
   "outputs": [
    {
     "data": {
      "text/plain": [
       "360"
      ]
     },
     "execution_count": 7,
     "metadata": {},
     "output_type": "execute_result"
    }
   ],
   "source": [
    "len(seq[0])"
   ]
  },
  {
   "cell_type": "code",
   "execution_count": 8,
   "metadata": {},
   "outputs": [],
   "source": [
    "positive_sequence = []\n",
    "negative_sequence = []\n",
    "#serine (S) and alanine (A) for acetylation\n",
    "for c in seq:\n",
    "    pos_index = [i for i, e in enumerate(c) if e == 'S' or e == 'A']\n",
    "    neg_index = [i for i, e in enumerate(c) if e != 'S' and e != 'A']\n",
    "\n",
    "    for pos in pos_index:\n",
    "        if pos > 15 and (pos+15) < len(c):\n",
    "            positive = c[(pos-15):(pos+16)]\n",
    "            positive_sequence.append(positive)\n",
    "\n",
    "    for neg in neg_index:\n",
    "        if neg > 15 and (neg+15) < len(c):\n",
    "            negative = c[(neg-15):(neg+16)]\n",
    "            negative_sequence.append(negative)"
   ]
  },
  {
   "cell_type": "code",
   "execution_count": 9,
   "metadata": {},
   "outputs": [
    {
     "name": "stdout",
     "output_type": "stream",
     "text": [
      "784162\n",
      "4336605\n"
     ]
    }
   ],
   "source": [
    "print(len(positive_sequence))\n",
    "print(len(negative_sequence))"
   ]
  },
  {
   "cell_type": "code",
   "execution_count": 10,
   "metadata": {},
   "outputs": [],
   "source": [
    "ofile = open('/home/jjia1/postacetylation/acetylation_pos.fasta', 'w')\n",
    "i = 0\n",
    "for line in positive_sequence:\n",
    "    ofile.write('>Sequence_'+str(i)+'\\n'+line+'\\n')\n",
    "    i = i + 1\n",
    "ofile.close()"
   ]
  },
  {
   "cell_type": "code",
   "execution_count": 11,
   "metadata": {},
   "outputs": [],
   "source": [
    "ofile = open('/home/jjia1/postacetylation/acetylation_neg.fasta', 'w')\n",
    "i = 0\n",
    "for line in negative_sequence:\n",
    "    ofile.write('>Sequence_'+str(i)+'\\n'+line+'\\n')\n",
    "    i = i + 1\n",
    "ofile.close()"
   ]
  },
  {
   "cell_type": "code",
   "execution_count": 12,
   "metadata": {},
   "outputs": [],
   "source": [
    "with open('/home/jjia1/postacetylation/methylation_seq_cleaned.fasta') as f:\n",
    "    lines = f.read().splitlines()"
   ]
  },
  {
   "cell_type": "code",
   "execution_count": 13,
   "metadata": {},
   "outputs": [],
   "source": [
    "meth_y = []\n",
    "meth_seq = []\n",
    "for line in lines:\n",
    "    if line[0] == '>':\n",
    "        meth_y.append(1)\n",
    "    else:\n",
    "        meth_seq.append(line)"
   ]
  },
  {
   "cell_type": "code",
   "execution_count": 14,
   "metadata": {},
   "outputs": [],
   "source": [
    "positive_sequence = []\n",
    "negative_sequence = []\n",
    "#lysine (K) and arginine (R) for methylation\n",
    "for c in meth_seq:\n",
    "    pos_index = [i for i, e in enumerate(c) if e == 'K' or e == 'R']\n",
    "    neg_index = [i for i, e in enumerate(c) if e != 'R' and e != 'K']\n",
    "\n",
    "    for pos in pos_index:\n",
    "        if pos > 15 and (pos+15) < len(c):\n",
    "            positive = c[(pos-15):(pos+16)]\n",
    "            positive_sequence.append(positive)\n",
    "\n",
    "    for neg in neg_index:\n",
    "        if neg > 15 and (neg+15) < len(c):\n",
    "            negative = c[(neg-15):(neg+16)]\n",
    "            negative_sequence.append(negative)"
   ]
  },
  {
   "cell_type": "code",
   "execution_count": 15,
   "metadata": {},
   "outputs": [
    {
     "name": "stdout",
     "output_type": "stream",
     "text": [
      "274668\n",
      "1914856\n"
     ]
    }
   ],
   "source": [
    "print(len(positive_sequence))\n",
    "print(len(negative_sequence))"
   ]
  },
  {
   "cell_type": "code",
   "execution_count": 16,
   "metadata": {},
   "outputs": [],
   "source": [
    "ofile = open('/home/jjia1/postacetylation/methylation_pos.fasta', 'w')\n",
    "i = 0\n",
    "for line in positive_sequence:\n",
    "    ofile.write('>Sequence_'+str(i)+'\\n'+line+'\\n')\n",
    "    i = i + 1\n",
    "ofile.close()"
   ]
  },
  {
   "cell_type": "code",
   "execution_count": 17,
   "metadata": {},
   "outputs": [],
   "source": [
    "ofile = open('/home/jjia1/postacetylation/methylation_neg.fasta', 'w')\n",
    "i = 0\n",
    "for line in negative_sequence:\n",
    "    ofile.write('>Sequence_'+str(i)+'\\n'+line+'\\n')\n",
    "    i = i + 1\n",
    "ofile.close()"
   ]
  },
  {
   "cell_type": "code",
   "execution_count": 18,
   "metadata": {},
   "outputs": [],
   "source": [
    "acetyl_pos_fasta = '/home/jjia1/postacetylation/acetylation_pos'\n",
    "acetyl_neg_fasta = '/home/jjia1/postacetylation/acetylation_neg'\n",
    "methyl_pos_fasta = '/home/jjia1/postacetylation/methylation_pos'\n",
    "methyl_neg_fasta = '/home/jjia1/postacetylation/methylation_neg'"
   ]
  },
  {
   "cell_type": "code",
   "execution_count": 19,
   "metadata": {},
   "outputs": [
    {
     "name": "stdout",
     "output_type": "stream",
     "text": [
      "================================================================\n",
      "Program: CD-HIT, V4.8.1 (+OpenMP), Apr 07 2021, 10:57:21\n",
      "Command: cd-hit -i\n",
      "         /home/jjia1/postacetylation/acetylation_pos.fasta -o\n",
      "         /home/jjia1/postacetylation/acetylation_pos_cleaned.fasta\n",
      "         -T 8 -M 16000 -c 0.4 -n 2\n",
      "\n",
      "Started: Mon Jun 27 16:36:27 2022\n",
      "================================================================\n",
      "                            Output                              \n",
      "----------------------------------------------------------------\n",
      "total seq: 784162\n",
      "longest and shortest : 31 and 31\n",
      "Total letters: 24309022\n",
      "Sequences have been sorted\n",
      "\n",
      "Approximated minimal memory consumption:\n",
      "Sequence        : 126M\n",
      "Buffer          : 8 X 19M = 159M\n",
      "Table           : 2 X 12M = 25M\n",
      "Miscellaneous   : 9M\n",
      "Total           : 319M\n",
      "\n",
      "Table limit with the given memory limit:\n",
      "Max number of representatives: 4000000\n",
      "Max number of word counting entries: 1960010334\n",
      "\n",
      "# comparing sequences from          0  to      78416\n",
      "..........    20000  finished       4850  clusters\n",
      "..........    30000  finished       7149  clusters\n",
      ".............................---------- new table with    18088 representatives\n",
      "# comparing sequences from      78416  to     148990\n",
      "..........    80000  finished      18453  clusters\n",
      "..........    90000  finished      20726  clusters\n",
      "..........   120000  finished      26944  clusters\n",
      "..........   140000  finished      30815  clusters\n",
      "100.0%---------- new table with    14354 representatives\n",
      "# comparing sequences from     148990  to     212507\n",
      "..........   150000  finished      32658  clusters\n",
      "..........   160000  finished      34660  clusters\n",
      "..........   170000  finished      36490  clusters\n",
      "..........   200000  finished      42001  clusters\n",
      "..........   210000  finished      43737  clusters\n",
      "56.2%"
     ]
    }
   ],
   "source": [
    "os.system('cd-hit -i '+acetyl_pos_fasta+'.fasta -o '+acetyl_pos_fasta+'_cleaned.fasta -T 8 -M 16000 -c 0.4 -n 2')"
   ]
  },
  {
   "cell_type": "code",
   "execution_count": null,
   "metadata": {},
   "outputs": [],
   "source": [
    "aminoacids =['A', 'C', 'D','E','F','G','H','I','K', 'L', 'M', 'N', 'P', 'Q', 'R', 'S', 'T', 'V', 'W', 'Y', 'X']"
   ]
  },
  {
   "cell_type": "code",
   "execution_count": null,
   "metadata": {},
   "outputs": [],
   "source": [
    "#serine (S) and alanine (A) for acetylation\n",
    "#arginine (R) and lysine (K) for methylation\n",
    "a = np.zeros(len(aminoacids))"
   ]
  },
  {
   "cell_type": "code",
   "execution_count": null,
   "metadata": {},
   "outputs": [],
   "source": [
    "from sklearn import preprocessing"
   ]
  },
  {
   "cell_type": "code",
   "execution_count": null,
   "metadata": {},
   "outputs": [],
   "source": [
    "encode = preprocessing.MultiLabelBinarizer()"
   ]
  },
  {
   "cell_type": "code",
   "execution_count": null,
   "metadata": {},
   "outputs": [],
   "source": [
    "a =[{'A'}, {'C'}, {'D'},{'E'},{'F'},{'G'},{'H'},{'I'},{'K'}, {'L'}, {'M'}, {'N'}, {'P'}, {'Q'}, {'R'}, {'S'}, {'T'}, {'U'}, {'V'}, {'W'}, {'Y'}, {'X'}]"
   ]
  },
  {
   "cell_type": "code",
   "execution_count": null,
   "metadata": {},
   "outputs": [],
   "source": [
    "classes = encode.fit(a)"
   ]
  },
  {
   "cell_type": "code",
   "execution_count": null,
   "metadata": {},
   "outputs": [
    {
     "data": {
      "text/plain": [
       "array([[1, 0, 0, 0, 0, 0, 0, 0, 0, 0, 0, 0, 0, 0, 0, 0, 0, 0, 0, 0, 0, 0],\n",
       "       [0, 1, 0, 0, 0, 0, 0, 0, 0, 0, 0, 0, 0, 0, 0, 0, 0, 0, 0, 0, 0, 0],\n",
       "       [0, 0, 1, 0, 0, 0, 0, 0, 0, 0, 0, 0, 0, 0, 0, 0, 0, 0, 0, 0, 0, 0],\n",
       "       [0, 0, 0, 1, 0, 0, 0, 0, 0, 0, 0, 0, 0, 0, 0, 0, 0, 0, 0, 0, 0, 0],\n",
       "       [0, 0, 0, 0, 1, 0, 0, 0, 0, 0, 0, 0, 0, 0, 0, 0, 0, 0, 0, 0, 0, 0],\n",
       "       [0, 0, 0, 0, 0, 1, 0, 0, 0, 0, 0, 0, 0, 0, 0, 0, 0, 0, 0, 0, 0, 0],\n",
       "       [0, 0, 0, 0, 0, 0, 1, 0, 0, 0, 0, 0, 0, 0, 0, 0, 0, 0, 0, 0, 0, 0],\n",
       "       [0, 0, 0, 0, 0, 0, 0, 1, 0, 0, 0, 0, 0, 0, 0, 0, 0, 0, 0, 0, 0, 0],\n",
       "       [0, 0, 0, 0, 0, 0, 0, 0, 1, 0, 0, 0, 0, 0, 0, 0, 0, 0, 0, 0, 0, 0],\n",
       "       [0, 0, 0, 0, 0, 0, 0, 0, 0, 1, 0, 0, 0, 0, 0, 0, 0, 0, 0, 0, 0, 0],\n",
       "       [0, 0, 0, 0, 0, 0, 0, 0, 0, 0, 1, 0, 0, 0, 0, 0, 0, 0, 0, 0, 0, 0],\n",
       "       [0, 0, 0, 0, 0, 0, 0, 0, 0, 0, 0, 1, 0, 0, 0, 0, 0, 0, 0, 0, 0, 0],\n",
       "       [0, 0, 0, 0, 0, 0, 0, 0, 0, 0, 0, 0, 1, 0, 0, 0, 0, 0, 0, 0, 0, 0],\n",
       "       [0, 0, 0, 0, 0, 0, 0, 0, 0, 0, 0, 0, 0, 1, 0, 0, 0, 0, 0, 0, 0, 0],\n",
       "       [0, 0, 0, 0, 0, 0, 0, 0, 0, 0, 0, 0, 0, 0, 1, 0, 0, 0, 0, 0, 0, 0],\n",
       "       [0, 0, 0, 0, 0, 0, 0, 0, 0, 0, 0, 0, 0, 0, 0, 1, 0, 0, 0, 0, 0, 0],\n",
       "       [0, 0, 0, 0, 0, 0, 0, 0, 0, 0, 0, 0, 0, 0, 0, 0, 1, 0, 0, 0, 0, 0],\n",
       "       [0, 0, 0, 0, 0, 0, 0, 0, 0, 0, 0, 0, 0, 0, 0, 0, 0, 1, 0, 0, 0, 0],\n",
       "       [0, 0, 0, 0, 0, 0, 0, 0, 0, 0, 0, 0, 0, 0, 0, 0, 0, 0, 1, 0, 0, 0],\n",
       "       [0, 0, 0, 0, 0, 0, 0, 0, 0, 0, 0, 0, 0, 0, 0, 0, 0, 0, 0, 1, 0, 0],\n",
       "       [0, 0, 0, 0, 0, 0, 0, 0, 0, 0, 0, 0, 0, 0, 0, 0, 0, 0, 0, 0, 0, 1],\n",
       "       [0, 0, 0, 0, 0, 0, 0, 0, 0, 0, 0, 0, 0, 0, 0, 0, 0, 0, 0, 0, 1, 0]])"
      ]
     },
     "metadata": {},
     "output_type": "display_data"
    }
   ],
   "source": [
    "encode.fit_transform(a)"
   ]
  },
  {
   "cell_type": "code",
   "execution_count": null,
   "metadata": {},
   "outputs": [
    {
     "data": {
      "text/plain": [
       "['A',\n",
       " 'C',\n",
       " 'D',\n",
       " 'E',\n",
       " 'F',\n",
       " 'G',\n",
       " 'H',\n",
       " 'I',\n",
       " 'K',\n",
       " 'L',\n",
       " 'M',\n",
       " 'N',\n",
       " 'P',\n",
       " 'Q',\n",
       " 'R',\n",
       " 'S',\n",
       " 'T',\n",
       " 'U',\n",
       " 'V',\n",
       " 'W',\n",
       " 'X',\n",
       " 'Y']"
      ]
     },
     "metadata": {},
     "output_type": "display_data"
    }
   ],
   "source": [
    "list(encode.classes_)"
   ]
  },
  {
   "cell_type": "code",
   "execution_count": null,
   "metadata": {},
   "outputs": [],
   "source": [
    "seq_mat= []\n",
    "for i in range(len(seq)):\n",
    "    seq_a = seq[i]\n",
    "    seq_a = classes.transform(seq_a)\n",
    "    seq_mat.append(seq_a)"
   ]
  },
  {
   "cell_type": "code",
   "execution_count": null,
   "metadata": {},
   "outputs": [
    {
     "name": "stderr",
     "output_type": "stream",
     "text": [
      "/home/jjia1/miniconda3/envs/post_acetylation/lib/python3.8/site-packages/numpy/lib/npyio.py:518: VisibleDeprecationWarning: Creating an ndarray from ragged nested sequences (which is a list-or-tuple of lists-or-tuples-or ndarrays with different lengths or shapes) is deprecated. If you meant to do this, you must specify 'dtype=object' when creating the ndarray.\n",
      "  arr = np.asanyarray(arr)\n"
     ]
    }
   ],
   "source": [
    "np.save('/home/jjia1/postacetylation/acetylation_seq_matrix.npy', seq_mat)"
   ]
  },
  {
   "cell_type": "code",
   "execution_count": null,
   "metadata": {},
   "outputs": [
    {
     "data": {
      "text/plain": [
       "7386"
      ]
     },
     "metadata": {},
     "output_type": "display_data"
    }
   ],
   "source": [
    "len(seq_mat)"
   ]
  }
 ],
 "metadata": {
  "kernelspec": {
   "display_name": "Python 3.8.13 ('post_acetylation': conda)",
   "language": "python",
   "name": "python3"
  },
  "language_info": {
   "codemirror_mode": {
    "name": "ipython",
    "version": 3
   },
   "file_extension": ".py",
   "mimetype": "text/x-python",
   "name": "python",
   "nbconvert_exporter": "python",
   "pygments_lexer": "ipython3",
   "version": "3.8.13"
  },
  "orig_nbformat": 4,
  "vscode": {
   "interpreter": {
    "hash": "31b24d60b27c150d491069827f03c2f582331960570dd93769f566ba343e1d6b"
   }
  }
 },
 "nbformat": 4,
 "nbformat_minor": 2
}
