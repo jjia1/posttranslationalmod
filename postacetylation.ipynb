{
 "cells": [
  {
   "cell_type": "code",
   "execution_count": 1,
   "metadata": {},
   "outputs": [],
   "source": [
    "#protein post translational modification data processing\n",
    "import pandas as pd\n",
    "import numpy as np"
   ]
  },
  {
   "cell_type": "code",
   "execution_count": 2,
   "metadata": {},
   "outputs": [],
   "source": [
    "import os"
   ]
  },
  {
   "cell_type": "code",
   "execution_count": null,
   "metadata": {},
   "outputs": [],
   "source": [
    "def fasta_to_embedding():\n",
    "    sequence = ['/home/jjia1/postacetylation/acetylation_seq_cleaned.fasta']\n",
    "    print(sequence)\n",
    "\n",
    "    for name in sequence:\n",
    "        y = []\n",
    "        seq = []\n",
    "        positive_seq = open(sequence)\n",
    "        for line in lines:\n",
    "            "
   ]
  }
 ],
 "metadata": {
  "kernelspec": {
   "display_name": "Python 3.8.13 ('post_acetylation': conda)",
   "language": "python",
   "name": "python3"
  },
  "language_info": {
   "codemirror_mode": {
    "name": "ipython",
    "version": 3
   },
   "file_extension": ".py",
   "mimetype": "text/x-python",
   "name": "python",
   "nbconvert_exporter": "python",
   "pygments_lexer": "ipython3",
   "version": "3.8.13"
  },
  "orig_nbformat": 4,
  "vscode": {
   "interpreter": {
    "hash": "31b24d60b27c150d491069827f03c2f582331960570dd93769f566ba343e1d6b"
   }
  }
 },
 "nbformat": 4,
 "nbformat_minor": 2
}
