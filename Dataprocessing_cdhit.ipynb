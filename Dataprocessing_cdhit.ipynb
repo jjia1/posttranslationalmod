{
 "cells": [
  {
   "cell_type": "code",
   "execution_count": null,
   "metadata": {},
   "outputs": [],
   "source": [
    "import os"
   ]
  },
  {
   "cell_type": "code",
   "execution_count": null,
   "metadata": {},
   "outputs": [],
   "source": [
    "acetyl_pos_fasta = '/home/jjia1/postacetylation/acetylation_pos'\n",
    "acetyl_neg_fasta = '/home/jjia1/postacetylation/acetylation_neg'\n",
    "methyl_pos_fasta = '/home/jjia1/postacetylation/methylation_pos'\n",
    "methyl_neg_fasta = '/home/jjia1/postacetylation/methylation_neg'"
   ]
  },
  {
   "cell_type": "code",
   "execution_count": null,
   "metadata": {},
   "outputs": [
    {
     "name": "stdout",
     "output_type": "stream",
     "text": [
      "================================================================\n",
      "Program: CD-HIT, V4.8.1 (+OpenMP), Apr 07 2021, 10:57:21\n",
      "Command: cd-hit -i\n",
      "         /home/jjia1/postacetylation/acetylation_pos.fasta -o\n",
      "         /home/jjia1/postacetylation/acetylation_pos_cleaned.fasta\n",
      "         -T 8 -M 16000 -c 0.4 -n 2\n",
      "\n",
      "Started: Mon Jun 27 16:36:27 2022\n",
      "================================================================\n",
      "                            Output                              \n",
      "----------------------------------------------------------------\n",
      "total seq: 784162\n",
      "longest and shortest : 31 and 31\n",
      "Total letters: 24309022\n",
      "Sequences have been sorted\n",
      "\n",
      "Approximated minimal memory consumption:\n",
      "Sequence        : 126M\n",
      "Buffer          : 8 X 19M = 159M\n",
      "Table           : 2 X 12M = 25M\n",
      "Miscellaneous   : 9M\n",
      "Total           : 319M\n",
      "\n",
      "Table limit with the given memory limit:\n",
      "Max number of representatives: 4000000\n",
      "Max number of word counting entries: 1960010334\n",
      "\n",
      "# comparing sequences from          0  to      78416\n",
      "..........    20000  finished       4850  clusters\n",
      "..........    30000  finished       7149  clusters\n",
      ".............................---------- new table with    18088 representatives\n",
      "# comparing sequences from      78416  to     148990\n",
      "..........    80000  finished      18453  clusters\n",
      "..........    90000  finished      20726  clusters\n",
      "..........   120000  finished      26944  clusters\n",
      "..........   140000  finished      30815  clusters\n",
      "100.0%---------- new table with    14354 representatives\n",
      "# comparing sequences from     148990  to     212507\n",
      "..........   150000  finished      32658  clusters\n",
      "..........   160000  finished      34660  clusters\n",
      "..........   170000  finished      36490  clusters\n",
      "..........   200000  finished      42001  clusters\n",
      "..........   210000  finished      43737  clusters\n",
      "58.1%"
     ]
    }
   ],
   "source": [
    "os.system('cd-hit -i '+acetyl_pos_fasta+'.fasta -o '+acetyl_pos_fasta+'_cleaned.fasta -T 8 -M 16000 -c 0.4 -n 2')"
   ]
  },
  {
   "cell_type": "code",
   "execution_count": null,
   "metadata": {},
   "outputs": [
    {
     "name": "stdout",
     "output_type": "stream",
     "text": [
      "================================================================\n",
      "Program: CD-HIT, V4.8.1 (+OpenMP), Apr 07 2021, 10:57:21\n",
      "Command: cd-hit -i\n",
      "         /home/jjia1/postacetylation/acetylation_pos.fasta -o\n",
      "         /home/jjia1/postacetylation/acetylation_pos_cleaned.fasta\n",
      "         -T 8 -M 16000 -c 0.4 -n 2\n",
      "\n",
      "Started: Mon Jun 27 16:36:27 2022\n",
      "================================================================\n",
      "                            Output                              \n",
      "----------------------------------------------------------------\n",
      "total seq: 784162\n",
      "longest and shortest : 31 and 31\n",
      "Total letters: 24309022\n",
      "Sequences have been sorted\n",
      "\n",
      "Approximated minimal memory consumption:\n",
      "Sequence        : 126M\n",
      "Buffer          : 8 X 19M = 159M\n",
      "Table           : 2 X 12M = 25M\n",
      "Miscellaneous   : 9M\n",
      "Total           : 319M\n",
      "\n",
      "Table limit with the given memory limit:\n",
      "Max number of representatives: 4000000\n",
      "Max number of word counting entries: 1960010334\n",
      "\n",
      "# comparing sequences from          0  to      78416\n",
      "..........    20000  finished       4850  clusters\n",
      "..........    30000  finished       7149  clusters\n",
      ".............................---------- new table with    18088 representatives\n",
      "# comparing sequences from      78416  to     148990\n",
      "..........    80000  finished      18453  clusters\n",
      "..........    90000  finished      20726  clusters\n",
      "..........   120000  finished      26944  clusters\n",
      "..........   140000  finished      30815  clusters\n",
      "100.0%---------- new table with    14354 representatives\n",
      "# comparing sequences from     148990  to     212507\n",
      "..........   150000  finished      32658  clusters\n",
      "..........   160000  finished      34660  clusters\n",
      "..........   170000  finished      36490  clusters\n",
      "..........   200000  finished      42001  clusters\n",
      "..........   210000  finished      43737  clusters\n",
      "58.1%"
     ]
    }
   ],
   "source": [
    "os.system('cd-hit -i '+acetyl_neg_fasta+'.fasta -o '+acetyl_neg_fasta+'_cleaned.fasta -T 8 -M 16000 -c 0.4 -n 2')"
   ]
  }
 ],
 "metadata": {
  "language_info": {
   "name": "python"
  },
  "orig_nbformat": 4
 },
 "nbformat": 4,
 "nbformat_minor": 2
}
