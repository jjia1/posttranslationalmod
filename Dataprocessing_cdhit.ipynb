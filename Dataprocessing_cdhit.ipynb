{
 "cells": [
  {
   "cell_type": "code",
   "execution_count": 1,
   "metadata": {},
   "outputs": [],
   "source": [
    "import os"
   ]
  },
  {
   "cell_type": "code",
   "execution_count": 2,
   "metadata": {},
   "outputs": [],
   "source": [
    "acetyl_pos_fasta = '/home/jjia1/postacetylation/acetylation_pos'\n",
    "acetyl_neg_fasta = '/home/jjia1/postacetylation/acetylation_neg'\n",
    "methyl_pos_fasta = '/home/jjia1/postacetylation/methylation_pos'\n",
    "methyl_neg_fasta = '/home/jjia1/postacetylation/methylation_neg'"
   ]
  },
  {
   "cell_type": "code",
   "execution_count": 3,
   "metadata": {},
   "outputs": [
    {
     "name": "stdout",
     "output_type": "stream",
     "text": [
      "================================================================\n",
      "Program: CD-HIT, V4.8.1 (+OpenMP), Apr 07 2021, 10:57:21\n",
      "Command: cd-hit -i\n",
      "         /home/jjia1/postacetylation/acetylation_pos.fasta -o\n",
      "         /home/jjia1/postacetylation/acetylation_pos_cleaned.fasta\n",
      "         -T 8 -M 16000 -c 0.4 -n 2\n",
      "\n",
      "Started: Tue Jun 28 17:43:49 2022\n",
      "================================================================\n",
      "                            Output                              \n",
      "----------------------------------------------------------------\n",
      "total seq: 1116927\n",
      "longest and shortest : 31 and 30\n",
      "Total letters: 34623092\n",
      "Sequences have been sorted\n",
      "\n",
      "Approximated minimal memory consumption:\n",
      "Sequence        : 179M\n",
      "Buffer          : 8 X 23M = 191M\n",
      "Table           : 2 X 17M = 35M\n",
      "Miscellaneous   : 13M\n",
      "Total           : 420M\n",
      "\n",
      "Table limit with the given memory limit:\n",
      "Max number of representatives: 4000000\n",
      "Max number of word counting entries: 1947462593\n",
      "\n",
      "# comparing sequences from          0  to     111692\n",
      "..........    10000  finished       2036  clusters\n",
      "..........    20000  finished       3958  clusters\n",
      "..........    30000  finished       5775  clusters\n",
      "..........    50000  finished       9436  clusters\n",
      "..........    60000  finished      11287  clusters\n",
      "..........    70000  finished      13084  clusters\n",
      "........."
     ]
    }
   ],
   "source": [
    "os.system('cd-hit -i '+acetyl_pos_fasta+'.fasta -o '+acetyl_pos_fasta+'_cleaned.fasta -T 8 -M 16000 -c 0.4 -n 2')"
   ]
  },
  {
   "cell_type": "code",
   "execution_count": null,
   "metadata": {},
   "outputs": [],
   "source": [
    "os.system('cd-hit -i '+acetyl_neg_fasta+'.fasta -o '+acetyl_neg_fasta+'_cleaned.fasta -T 8 -M 16000 -c 0.4 -n 2')"
   ]
  },
  {
   "cell_type": "code",
   "execution_count": null,
   "metadata": {},
   "outputs": [],
   "source": [
    "os.system('cd-hit -i '+methyl_pos_fasta+'.fasta -o '+methyl_pos_fasta+'_cleaned.fasta -T 8 -M 16000 -c 0.4 -n 2')"
   ]
  },
  {
   "cell_type": "code",
   "execution_count": null,
   "metadata": {},
   "outputs": [],
   "source": [
    "os.system('cd-hit -i '+methyl_neg_fasta+'.fasta -o '+methyl_neg_fasta+'_cleaned.fasta -T 8 -M 16000 -c 0.4 -n 2')"
   ]
  },
  {
   "cell_type": "code",
   "execution_count": null,
   "metadata": {},
   "outputs": [],
   "source": [
    "os.system('cd-hit-2d -i '+acetyl_pos_fasta+'.fasta -i2 '+acetyl_neg_fasta+'-o '+acetyl_neg_fasta+'_cleaned_2d.fasta -T 8 -M 16000 -c 0.4 -n 2')"
   ]
  },
  {
   "cell_type": "code",
   "execution_count": null,
   "metadata": {},
   "outputs": [],
   "source": [
    "os.system('cd-hit-2d -i '+methyl_pos_fasta+'.fasta -i2 '+methyl_neg_fasta+'-o '+methyl_neg_fasta+'_cleaned_2d.fasta -T 8 -M 16000 -c 0.4 -n 2')"
   ]
  },
  {
   "cell_type": "code",
   "execution_count": null,
   "metadata": {},
   "outputs": [],
   "source": []
  }
 ],
 "metadata": {
  "kernelspec": {
   "display_name": "Python 3.8.13 ('post_acetylation': conda)",
   "language": "python",
   "name": "python3"
  },
  "language_info": {
   "codemirror_mode": {
    "name": "ipython",
    "version": 3
   },
   "file_extension": ".py",
   "mimetype": "text/x-python",
   "name": "python",
   "nbconvert_exporter": "python",
   "pygments_lexer": "ipython3",
   "version": "3.8.13"
  },
  "orig_nbformat": 4,
  "vscode": {
   "interpreter": {
    "hash": "31b24d60b27c150d491069827f03c2f582331960570dd93769f566ba343e1d6b"
   }
  }
 },
 "nbformat": 4,
 "nbformat_minor": 2
}
