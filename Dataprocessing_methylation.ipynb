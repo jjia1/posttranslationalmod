{
 "cells": [
  {
   "cell_type": "code",
   "execution_count": 1,
   "metadata": {},
   "outputs": [],
   "source": [
    "#protein post translational modification data processing\n",
    "import pandas as pd\n",
    "import numpy as np"
   ]
  },
  {
   "cell_type": "code",
   "execution_count": 2,
   "metadata": {},
   "outputs": [],
   "source": [
    "import os"
   ]
  },
  {
   "cell_type": "code",
   "execution_count": 3,
   "metadata": {},
   "outputs": [],
   "source": [
    "with open('/home/jjia1/postacetylation/methylation_seq_cleaned.fasta') as f:\n",
    "    lines = f.read().splitlines()"
   ]
  },
  {
   "cell_type": "code",
   "execution_count": 4,
   "metadata": {},
   "outputs": [],
   "source": [
    "meth_y = []\n",
    "meth_seq = []\n",
    "for line in lines:\n",
    "    if line[0] == '>':\n",
    "        meth_y.append(1)\n",
    "    else:\n",
    "        meth_seq.append(line)"
   ]
  },
  {
   "cell_type": "code",
   "execution_count": 10,
   "metadata": {},
   "outputs": [],
   "source": [
    "positive_sequence = []\n",
    "negative_sequence = []\n",
    "#lysine (K) and arginine (R) for methylation\n",
    "for c in meth_seq:\n",
    "    pos_index = [i for i, e in enumerate(c) if e == 'K' or e == 'R']\n",
    "    neg_index = [i for i, e in enumerate(c) if e != 'R' and e != 'K']\n",
    "\n",
    "    for pos in pos_index:\n",
    "        if pos >= 15 and (pos+16) <= len(c):\n",
    "            positive = c[(pos-15):(pos+16)]\n",
    "            positive_sequence.append(positive)\n",
    "\n",
    "    for neg in neg_index:\n",
    "        if neg >= 15 and (neg+16) <= len(c):\n",
    "            negative = c[(neg-15):(neg+16)]\n",
    "            negative_sequence.append(negative)"
   ]
  },
  {
   "cell_type": "code",
   "execution_count": 11,
   "metadata": {},
   "outputs": [
    {
     "name": "stdout",
     "output_type": "stream",
     "text": [
      "274962\n",
      "1917092\n"
     ]
    }
   ],
   "source": [
    "print(len(positive_sequence))\n",
    "print(len(negative_sequence))"
   ]
  },
  {
   "cell_type": "code",
   "execution_count": 12,
   "metadata": {},
   "outputs": [],
   "source": [
    "ofile = open('/home/jjia1/postacetylation/methylation_pos.fasta', 'w')\n",
    "i = 0\n",
    "for line in positive_sequence:\n",
    "    ofile.write('>Sequence_'+str(i)+'\\n'+line+'\\n')\n",
    "    i = i + 1\n",
    "ofile.close()"
   ]
  },
  {
   "cell_type": "code",
   "execution_count": 13,
   "metadata": {},
   "outputs": [],
   "source": [
    "ofile = open('/home/jjia1/postacetylation/methylation_neg.fasta', 'w')\n",
    "i = 0\n",
    "for line in negative_sequence:\n",
    "    ofile.write('>Sequence_'+str(i)+'\\n'+line+'\\n')\n",
    "    i = i + 1\n",
    "ofile.close()"
   ]
  },
  {
   "cell_type": "code",
   "execution_count": null,
   "metadata": {},
   "outputs": [],
   "source": []
  }
 ],
 "metadata": {
  "kernelspec": {
   "display_name": "Python 3.8.13 ('post_acetylation': conda)",
   "language": "python",
   "name": "python3"
  },
  "language_info": {
   "codemirror_mode": {
    "name": "ipython",
    "version": 3
   },
   "file_extension": ".py",
   "mimetype": "text/x-python",
   "name": "python",
   "nbconvert_exporter": "python",
   "pygments_lexer": "ipython3",
   "version": "3.8.13"
  },
  "orig_nbformat": 4,
  "vscode": {
   "interpreter": {
    "hash": "31b24d60b27c150d491069827f03c2f582331960570dd93769f566ba343e1d6b"
   }
  }
 },
 "nbformat": 4,
 "nbformat_minor": 2
}
